{
 "cells": [
  {
   "cell_type": "code",
   "execution_count": 1,
   "id": "5a5530c8-d9aa-4338-a9f5-ede121be23f3",
   "metadata": {},
   "outputs": [
    {
     "data": {
      "text/plain": [
       "'Q1. Explain the assumptions required to use ANOVA and provide examples of violations that could impact\\nthe validity of the results.'"
      ]
     },
     "execution_count": 1,
     "metadata": {},
     "output_type": "execute_result"
    }
   ],
   "source": [
    "'''Q1. Explain the assumptions required to use ANOVA and provide examples of violations that could impact\n",
    "the validity of the results.'''"
   ]
  },
  {
   "cell_type": "code",
   "execution_count": 2,
   "id": "2efb37af-f6a0-49e5-be00-db057d8ec0c1",
   "metadata": {},
   "outputs": [
    {
     "data": {
      "text/plain": [
       "'**Assumptions of ANOVA**:\\n\\n1. **Normality**: The data in each group should be approximately normally distributed.\\n   - *Violation Example*: If the data is highly skewed or has significant outliers, it can affect the validity of the ANOVA results.\\n\\n2. **Homogeneity of Variances**: The variances among groups should be approximately equal.\\n   - *Violation Example*: If one group has much larger or smaller variance compared to others, it can lead to inaccurate conclusions.\\n\\n3. **Independence**: Observations should be independent of each other.\\n   - *Violation Example*: If data points are correlated (e.g., repeated measures on the same subjects), the assumption of independence is violated.\\n\\n**Impact of Violations**:\\n- Violations of normality or homogeneity of variances can lead to increased Type I or Type II errors, making the test less reliable.\\n- Violations of independence can lead to incorrect estimates of variance and invalid statistical tests.'"
      ]
     },
     "execution_count": 2,
     "metadata": {},
     "output_type": "execute_result"
    }
   ],
   "source": [
    "'''**Assumptions of ANOVA**:\n",
    "\n",
    "1. **Normality**: The data in each group should be approximately normally distributed.\n",
    "   - *Violation Example*: If the data is highly skewed or has significant outliers, it can affect the validity of the ANOVA results.\n",
    "\n",
    "2. **Homogeneity of Variances**: The variances among groups should be approximately equal.\n",
    "   - *Violation Example*: If one group has much larger or smaller variance compared to others, it can lead to inaccurate conclusions.\n",
    "\n",
    "3. **Independence**: Observations should be independent of each other.\n",
    "   - *Violation Example*: If data points are correlated (e.g., repeated measures on the same subjects), the assumption of independence is violated.\n",
    "\n",
    "**Impact of Violations**:\n",
    "- Violations of normality or homogeneity of variances can lead to increased Type I or Type II errors, making the test less reliable.\n",
    "- Violations of independence can lead to incorrect estimates of variance and invalid statistical tests.'''"
   ]
  },
  {
   "cell_type": "code",
   "execution_count": 3,
   "id": "36e316a1-d4a8-444b-939e-e10ea2815a5e",
   "metadata": {},
   "outputs": [
    {
     "data": {
      "text/plain": [
       "'Q2. What are the three types of ANOVA, and in what situations would each be used?'"
      ]
     },
     "execution_count": 3,
     "metadata": {},
     "output_type": "execute_result"
    }
   ],
   "source": [
    "'''Q2. What are the three types of ANOVA, and in what situations would each be used?'''"
   ]
  },
  {
   "cell_type": "code",
   "execution_count": 4,
   "id": "673c802e-f21f-4dab-bf11-26faf19239ae",
   "metadata": {},
   "outputs": [
    {
     "data": {
      "text/plain": [
       "'1. One-Way ANOVA: Compares means across three or more independent groups based on one factor.\\n\\nUse When: You want to test if there are significant differences in means among multiple groups for a single independent variable.\\n\\nExample: Comparing the average test scores of students from three different teaching methods.\\n\\n2. Two-Way ANOVA: Examines the impact of two independent variables on a dependent variable and their interaction.\\n\\nUse When: You need to analyze the effects of two factors simultaneously and their interaction on the dependent variable.\\n\\nExample: Testing how teaching method and student gender affect test scores, and whether there is an interaction between these two factors.\\n\\n3. Repeated Measures ANOVA: Compares means across multiple measurements taken from the same subjects over time or under different conditions.\\n\\nUse When: You have repeated measurements from the same subjects and want to assess changes over time or conditions.\\n\\nExample: Measuring the effect of a training program on performance at multiple time points (pre-test, post-test, and follow-up).'"
      ]
     },
     "execution_count": 4,
     "metadata": {},
     "output_type": "execute_result"
    }
   ],
   "source": [
    "'''1. One-Way ANOVA: Compares means across three or more independent groups based on one factor.\n",
    "\n",
    "Use When: You want to test if there are significant differences in means among multiple groups for a single independent variable.\n",
    "\n",
    "Example: Comparing the average test scores of students from three different teaching methods.\n",
    "\n",
    "2. Two-Way ANOVA: Examines the impact of two independent variables on a dependent variable and their interaction.\n",
    "\n",
    "Use When: You need to analyze the effects of two factors simultaneously and their interaction on the dependent variable.\n",
    "\n",
    "Example: Testing how teaching method and student gender affect test scores, and whether there is an interaction between these two factors.\n",
    "\n",
    "3. Repeated Measures ANOVA: Compares means across multiple measurements taken from the same subjects over time or under different conditions.\n",
    "\n",
    "Use When: You have repeated measurements from the same subjects and want to assess changes over time or conditions.\n",
    "\n",
    "Example: Measuring the effect of a training program on performance at multiple time points (pre-test, post-test, and follow-up).'''"
   ]
  },
  {
   "cell_type": "code",
   "execution_count": 5,
   "id": "9642dbdb-8593-4b73-9aad-3774da70bf4c",
   "metadata": {},
   "outputs": [
    {
     "data": {
      "text/plain": [
       "'Q3. What is the partitioning of variance in ANOVA, and why is it important to understand this concept?'"
      ]
     },
     "execution_count": 5,
     "metadata": {},
     "output_type": "execute_result"
    }
   ],
   "source": [
    "'''Q3. What is the partitioning of variance in ANOVA, and why is it important to understand this concept?'''"
   ]
  },
  {
   "cell_type": "code",
   "execution_count": 6,
   "id": "bd0f26e3-c5c3-4bf9-bf63-6f5c69bee59d",
   "metadata": {},
   "outputs": [
    {
     "data": {
      "text/plain": [
       "'**Partitioning of Variance** in ANOVA refers to the process of dividing the total variability in the data into components associated with different sources of variation:\\n\\n1. **Total Variance**: The overall variability in the data.\\n2. **Between-Group Variance**: Variability due to differences between the group means.\\n3. **Within-Group Variance**: Variability within each group, also known as residual or error variance.\\n\\n**Importance**:\\n- **Identifies Sources of Variation**: Helps in understanding how much of the total variability is attributable to differences between groups versus variability within groups.\\n- **Guides Interpretation**: Determines if observed differences are significant or if they could be due to random variation.\\n- **Supports Valid Conclusions**: Ensures that the conclusions drawn about group differences are based on systematic effects rather than random noise.'"
      ]
     },
     "execution_count": 6,
     "metadata": {},
     "output_type": "execute_result"
    }
   ],
   "source": [
    "'''**Partitioning of Variance** in ANOVA refers to the process of dividing the total variability in the data into components associated with different sources of variation:\n",
    "\n",
    "1. **Total Variance**: The overall variability in the data.\n",
    "2. **Between-Group Variance**: Variability due to differences between the group means.\n",
    "3. **Within-Group Variance**: Variability within each group, also known as residual or error variance.\n",
    "\n",
    "**Importance**:\n",
    "- **Identifies Sources of Variation**: Helps in understanding how much of the total variability is attributable to differences between groups versus variability within groups.\n",
    "- **Guides Interpretation**: Determines if observed differences are significant or if they could be due to random variation.\n",
    "- **Supports Valid Conclusions**: Ensures that the conclusions drawn about group differences are based on systematic effects rather than random noise.'''"
   ]
  },
  {
   "cell_type": "code",
   "execution_count": 7,
   "id": "29b8a175-7154-49f7-9394-5c83a4f7234e",
   "metadata": {},
   "outputs": [
    {
     "data": {
      "text/plain": [
       "'Q4. How would you calculate the total sum of squares (SST), explained sum of squares (SSE), and residual\\nsum of squares (SSR) in a one-way ANOVA using Python?\\n'"
      ]
     },
     "execution_count": 7,
     "metadata": {},
     "output_type": "execute_result"
    }
   ],
   "source": [
    "'''Q4. How would you calculate the total sum of squares (SST), explained sum of squares (SSE), and residual\n",
    "sum of squares (SSR) in a one-way ANOVA using Python?\n",
    "'''"
   ]
  },
  {
   "cell_type": "code",
   "execution_count": 9,
   "id": "113f5609-b335-4c9f-801f-551ca094cb4d",
   "metadata": {},
   "outputs": [],
   "source": [
    "import numpy as np\n",
    "from scipy import stats\n",
    "\n",
    "# Example data: Three groups with sample observations\n",
    "group1 = np.array([20, 22, 19, 24, 30])\n",
    "group2 = np.array([25, 28, 23, 29, 35])\n",
    "group3 = np.array([30, 32, 31, 34, 40])\n",
    "\n",
    "data = [group1, group2, group3]\n",
    "# Overall mean\n",
    "grand_mean = np.mean(np.concatenate(data))\n",
    "# Total Sum of Squares\n",
    "SST = np.sum((np.concatenate(data) - grand_mean) ** 2)\n",
    "# Explained Sum of Squares\n",
    "SSE = np.sum([len(group) * (np.mean(group) - grand_mean) ** 2 for group in data])\n",
    "# Residual Sum of Squares\n",
    "SSR = SST - SSE\n",
    "\n"
   ]
  },
  {
   "cell_type": "code",
   "execution_count": 10,
   "id": "75cdb51d-f177-44fd-b022-4e872d2d94ea",
   "metadata": {},
   "outputs": [
    {
     "name": "stdout",
     "output_type": "stream",
     "text": [
      "493.73333333333335 270.53333333333325 28.133333333333333\n"
     ]
    }
   ],
   "source": [
    "print(SST,SSE,grand_mean)"
   ]
  },
  {
   "cell_type": "code",
   "execution_count": 11,
   "id": "c1952242-6f47-47f1-ae49-d4880ca5e117",
   "metadata": {},
   "outputs": [
    {
     "data": {
      "text/plain": [
       "'Q5. In a two-way ANOVA, how would you calculate the main effects and interaction effects using Python?'"
      ]
     },
     "execution_count": 11,
     "metadata": {},
     "output_type": "execute_result"
    }
   ],
   "source": [
    "'''Q5. In a two-way ANOVA, how would you calculate the main effects and interaction effects using Python?'''"
   ]
  },
  {
   "cell_type": "code",
   "execution_count": 13,
   "id": "a7135641-8339-4607-9734-01f2f319d097",
   "metadata": {},
   "outputs": [
    {
     "name": "stdout",
     "output_type": "stream",
     "text": [
      "<statsmodels.regression.linear_model.RegressionResultsWrapper object at 0x740dd8e0db40>                           sum_sq    df         F    PR(>F)\n",
      "C(factor1)              0.738379   1.0  0.913714  0.343391\n",
      "C(factor2)              2.108327   2.0  1.304486  0.279724\n",
      "C(factor1):C(factor2)   1.334362   2.0  0.825610  0.443419\n",
      "Residual               43.637756  54.0       NaN       NaN               sum_sq    PR(>F)\n",
      "C(factor1)  0.738379  0.343391\n",
      "C(factor2)  2.108327  0.279724 sum_sq    1.334362\n",
      "df        2.000000\n",
      "F         0.825610\n",
      "PR(>F)    0.443419\n",
      "Name: C(factor1):C(factor2), dtype: float64\n"
     ]
    }
   ],
   "source": [
    "import pandas as pd\n",
    "import numpy as np\n",
    "import statsmodels.api as sm\n",
    "from statsmodels.formula.api import ols\n",
    "\n",
    "# Example data: Two factors with multiple levels\n",
    "data = pd.DataFrame({\n",
    "    'response': np.random.randn(60),\n",
    "    'factor1': np.repeat(['A', 'B'], 30),\n",
    "    'factor2': np.tile(np.repeat(['X', 'Y', 'Z'], 10), 2)\n",
    "})\n",
    "model = ols('response ~ C(factor1) * C(factor2)', data=data).fit()\n",
    "anova_table = sm.stats.anova_lm(model, typ=2)\n",
    "main_effects = anova_table[['sum_sq', 'PR(>F)']].loc[['C(factor1)', 'C(factor2)']]\n",
    "interaction_effect = anova_table.loc['C(factor1):C(factor2)']\n",
    "print(model,anova_table,main_effects,interaction_effect)\n"
   ]
  },
  {
   "cell_type": "code",
   "execution_count": 14,
   "id": "5639033b-c678-4bc5-9bec-e78d258d2f79",
   "metadata": {},
   "outputs": [
    {
     "data": {
      "text/plain": [
       "'Q6. Suppose you conducted a one-way ANOVA and obtained an F-statistic of 5.23 and a p-value of 0.02.\\nWhat can you conclude about the differences between the groups, and how would you interpret these\\nresults?'"
      ]
     },
     "execution_count": 14,
     "metadata": {},
     "output_type": "execute_result"
    }
   ],
   "source": [
    "'''Q6. Suppose you conducted a one-way ANOVA and obtained an F-statistic of 5.23 and a p-value of 0.02.\n",
    "What can you conclude about the differences between the groups, and how would you interpret these\n",
    "results?'''"
   ]
  },
  {
   "cell_type": "code",
   "execution_count": 15,
   "id": "2d124ff3-6084-4be4-a15c-d5b0e4475d1a",
   "metadata": {},
   "outputs": [
    {
     "data": {
      "text/plain": [
       "'Given an F-statistic of 5.23 and a p-value of 0.02 in a one-way ANOVA:\\n\\nConclusion: Since the p-value (0.02) is less than the common significance level (e.g., 0.05), you reject the null hypothesis.\\n\\nInterpretation: There is significant evidence to conclude that at least one group mean differs from the others. This suggests that there are statistically significant differences in the \\nmeans of the groups being compared. Further post-hoc analysis may be needed to identify which specific groups are different from each other.'"
      ]
     },
     "execution_count": 15,
     "metadata": {},
     "output_type": "execute_result"
    }
   ],
   "source": [
    "'''Given an F-statistic of 5.23 and a p-value of 0.02 in a one-way ANOVA:\n",
    "\n",
    "Conclusion: Since the p-value (0.02) is less than the common significance level (e.g., 0.05), you reject the null hypothesis.\n",
    "\n",
    "Interpretation: There is significant evidence to conclude that at least one group mean differs from the others. This suggests that there are statistically significant differences in the \n",
    "means of the groups being compared. Further post-hoc analysis may be needed to identify which specific groups are different from each other.'''"
   ]
  },
  {
   "cell_type": "code",
   "execution_count": 16,
   "id": "8075bea3-a0f6-404c-8610-2f345cfea207",
   "metadata": {},
   "outputs": [
    {
     "data": {
      "text/plain": [
       "'Q7. In a repeated measures ANOVA, how would you handle missing data, and what are the potential\\nconsequences of using different methods to handle missing data?'"
      ]
     },
     "execution_count": 16,
     "metadata": {},
     "output_type": "execute_result"
    }
   ],
   "source": [
    "'''Q7. In a repeated measures ANOVA, how would you handle missing data, and what are the potential\n",
    "consequences of using different methods to handle missing data?'''"
   ]
  },
  {
   "cell_type": "code",
   "execution_count": 17,
   "id": "d7d68b4d-b1db-48aa-9168-3a95dbb2771a",
   "metadata": {},
   "outputs": [
    {
     "data": {
      "text/plain": [
       "'Handling Missing Data in Repeated Measures ANOVA:\\n\\nComplete Case Analysis:\\n\\nMethod: Only use participants with complete data for all measurements.\\nConsequence: Can lead to a loss of statistical power and potential bias if the missing data is not random.\\nImputation:\\n\\nMethod: Replace missing values using methods such as mean imputation, linear interpolation, or more advanced techniques like multiple imputation.\\nConsequence: Imputation can reduce bias and preserve statistical power but may introduce uncertainty or distort variability if not done appropriately.\\nMixed-Effects Models:\\n\\nMethod: Use models that can handle missing data under the assumption that data are missing at random (e.g., linear mixed models).\\nConsequence: This method is robust to missing data and provides valid estimates if the missingness mechanism is properly accounted for.\\nData Augmentation:\\n\\nMethod: Use algorithms that simulate possible values for missing data based on existing data patterns.\\nConsequence: Can be useful for enhancing robustness but requires careful implementation to avoid introducing bias.\\nPotential Consequences:\\n\\nBias: Handling missing data improperly can lead to biased results and incorrect conclusions.\\nPower Loss: Incomplete case analysis can reduce the sample size, leading to lower statistical power.\\nDistortion: Imputation and data augmentation can distort the true variability if not executed carefully.'"
      ]
     },
     "execution_count": 17,
     "metadata": {},
     "output_type": "execute_result"
    }
   ],
   "source": [
    "'''Handling Missing Data in Repeated Measures ANOVA:\n",
    "\n",
    "Complete Case Analysis:\n",
    "\n",
    "Method: Only use participants with complete data for all measurements.\n",
    "Consequence: Can lead to a loss of statistical power and potential bias if the missing data is not random.\n",
    "Imputation:\n",
    "\n",
    "Method: Replace missing values using methods such as mean imputation, linear interpolation, or more advanced techniques like multiple imputation.\n",
    "Consequence: Imputation can reduce bias and preserve statistical power but may introduce uncertainty or distort variability if not done appropriately.\n",
    "Mixed-Effects Models:\n",
    "\n",
    "Method: Use models that can handle missing data under the assumption that data are missing at random (e.g., linear mixed models).\n",
    "Consequence: This method is robust to missing data and provides valid estimates if the missingness mechanism is properly accounted for.\n",
    "Data Augmentation:\n",
    "\n",
    "Method: Use algorithms that simulate possible values for missing data based on existing data patterns.\n",
    "Consequence: Can be useful for enhancing robustness but requires careful implementation to avoid introducing bias.\n",
    "Potential Consequences:\n",
    "\n",
    "Bias: Handling missing data improperly can lead to biased results and incorrect conclusions.\n",
    "Power Loss: Incomplete case analysis can reduce the sample size, leading to lower statistical power.\n",
    "Distortion: Imputation and data augmentation can distort the true variability if not executed carefully.'''"
   ]
  },
  {
   "cell_type": "code",
   "execution_count": 18,
   "id": "52d68066-857e-4d13-940e-8050714a6c9c",
   "metadata": {},
   "outputs": [
    {
     "data": {
      "text/plain": [
       "'Q8. What are some common post-hoc tests used after ANOVA, and when would you use each one? Provide\\nan example of a situation where a post-hoc test might be necessary.'"
      ]
     },
     "execution_count": 18,
     "metadata": {},
     "output_type": "execute_result"
    }
   ],
   "source": [
    "'''Q8. What are some common post-hoc tests used after ANOVA, and when would you use each one? Provide\n",
    "an example of a situation where a post-hoc test might be necessary.'''"
   ]
  },
  {
   "cell_type": "code",
   "execution_count": 19,
   "id": "984bdbc5-d399-42d1-9b4d-2fb78c7c3263",
   "metadata": {},
   "outputs": [
    {
     "data": {
      "text/plain": [
       "\"**Common Post-Hoc Tests**:\\n\\n1. **Tukey's Honestly Significant Difference (HSD)**:\\n   - **Use When**: Comparing all pairs of group means to determine which specific means are different after a significant ANOVA result.\\n   - **Example**: After finding significant differences in test scores among three teaching methods, use Tukey's HSD to identify which specific pairs of\\n   methods (e.g., Method A vs. Method B) differ.\\n\\n2. **Bonferroni Correction**:\\n   - **Use When**: Conducting multiple pairwise comparisons and need to control for Type I error by adjusting the significance level.\\n   - **Example**: If comparing five groups and performing 10 pairwise tests, use the Bonferroni correction to adjust the significance level to account for the increased risk of Type I errors.\\n\\n3. **Scheffé's Test**:\\n   - **Use When**: Performing all possible contrasts among means, especially useful for complex comparisons beyond simple pairwise tests.\\n   - **Example**: After a significant ANOVA result with more than three groups, use Scheffé’s test to examine specific contrasts like comparing the average of several groups against another group.\\n\\n4. **Dunnett's Test**:\\n   - **Use When**: Comparing each group mean against a control group mean.\\n   - **Example**: After an ANOVA with multiple experimental groups and one control group, use Dunnett's test to compare each experimental group against the control group.\\n\\n**When to Use Post-Hoc Tests**:\\nPost-hoc tests are necessary when ANOVA indicates significant differences but does not specify where those differences lie. For instance, if you find a significant effect of different diets on weight loss in a study, post-hoc tests can identify which specific diets differ from each other.\""
      ]
     },
     "execution_count": 19,
     "metadata": {},
     "output_type": "execute_result"
    }
   ],
   "source": [
    "'''**Common Post-Hoc Tests**:\n",
    "\n",
    "1. **Tukey's Honestly Significant Difference (HSD)**:\n",
    "   - **Use When**: Comparing all pairs of group means to determine which specific means are different after a significant ANOVA result.\n",
    "   - **Example**: After finding significant differences in test scores among three teaching methods, use Tukey's HSD to identify which specific pairs of\n",
    "   methods (e.g., Method A vs. Method B) differ.\n",
    "\n",
    "2. **Bonferroni Correction**:\n",
    "   - **Use When**: Conducting multiple pairwise comparisons and need to control for Type I error by adjusting the significance level.\n",
    "   - **Example**: If comparing five groups and performing 10 pairwise tests, use the Bonferroni correction to adjust the significance level to account for the increased risk of Type I errors.\n",
    "\n",
    "3. **Scheffé's Test**:\n",
    "   - **Use When**: Performing all possible contrasts among means, especially useful for complex comparisons beyond simple pairwise tests.\n",
    "   - **Example**: After a significant ANOVA result with more than three groups, use Scheffé’s test to examine specific contrasts like comparing the average of several groups against another group.\n",
    "\n",
    "4. **Dunnett's Test**:\n",
    "   - **Use When**: Comparing each group mean against a control group mean.\n",
    "   - **Example**: After an ANOVA with multiple experimental groups and one control group, use Dunnett's test to compare each experimental group against the control group.\n",
    "\n",
    "**When to Use Post-Hoc Tests**:\n",
    "Post-hoc tests are necessary when ANOVA indicates significant differences but does not specify where those differences lie. For instance, if you find a significant effect of different diets on weight loss in a study, post-hoc tests can identify which specific diets differ from each other.'''"
   ]
  },
  {
   "cell_type": "code",
   "execution_count": 20,
   "id": "0397d75a-103d-4582-ade7-20ed18cb5397",
   "metadata": {},
   "outputs": [
    {
     "data": {
      "text/plain": [
       "'Q9. A researcher wants to compare the mean weight loss of three diets: A, B, and C. They collect data from\\n50 participants who were randomly assigned to one of the diets. Conduct a one-way ANOVA using Python\\nto determine if there are any significant differences between the mean weight loss of the three diets.\\nReport the F-statistic and p-value, and interpret the results.'"
      ]
     },
     "execution_count": 20,
     "metadata": {},
     "output_type": "execute_result"
    }
   ],
   "source": [
    "'''Q9. A researcher wants to compare the mean weight loss of three diets: A, B, and C. They collect data from\n",
    "50 participants who were randomly assigned to one of the diets. Conduct a one-way ANOVA using Python\n",
    "to determine if there are any significant differences between the mean weight loss of the three diets.\n",
    "Report the F-statistic and p-value, and interpret the results.'''"
   ]
  },
  {
   "cell_type": "code",
   "execution_count": 21,
   "id": "dc188e51-6cf1-4685-9c0d-a3461079a5a8",
   "metadata": {},
   "outputs": [
    {
     "name": "stdout",
     "output_type": "stream",
     "text": [
      "F-statistic: 2.99\n",
      "P-value: 0.0601\n"
     ]
    }
   ],
   "source": [
    "import pandas as pd\n",
    "import numpy as np\n",
    "from scipy import stats\n",
    "\n",
    "# Example data for 3 diets with 50 participants\n",
    "np.random.seed(0)  # For reproducibility\n",
    "diet_A = np.random.normal(loc=5, scale=1, size=17)  # 17 participants\n",
    "diet_B = np.random.normal(loc=6, scale=1, size=16)  # 16 participants\n",
    "diet_C = np.random.normal(loc=5.5, scale=1, size=17)  # 17 participants\n",
    "\n",
    "data = pd.DataFrame({\n",
    "    'weight_loss': np.concatenate([diet_A, diet_B, diet_C]),\n",
    "    'diet': ['A']*17 + ['B']*16 + ['C']*17\n",
    "})\n",
    "model = stats.f_oneway(data[data['diet'] == 'A']['weight_loss'],\n",
    "                       data[data['diet'] == 'B']['weight_loss'],\n",
    "                       data[data['diet'] == 'C']['weight_loss'])\n",
    "\n",
    "f_statistic = model.statistic\n",
    "p_value = model.pvalue\n",
    "print(f\"F-statistic: {f_statistic:.2f}\")\n",
    "print(f\"P-value: {p_value:.4f}\")\n"
   ]
  },
  {
   "cell_type": "code",
   "execution_count": 22,
   "id": "bdd9bec9-da47-457d-92e2-01534aaa0f92",
   "metadata": {},
   "outputs": [
    {
     "data": {
      "text/plain": [
       "'Q10. A company wants to know if there are any significant differences in the average time it takes to\\ncomplete a task using three different software programs: Program A, Program B, and Program C. They\\nrandomly assign 30 employees to one of the programs and record the time it takes each employee to\\ncomplete the task. Conduct a two-way ANOVA using Python to determine if there are any main effects or\\ninteraction effects between the software programs and employee experience level (novice vs.\\nexperienced). Report the F-statistics and p-values, and interpret the results'"
      ]
     },
     "execution_count": 22,
     "metadata": {},
     "output_type": "execute_result"
    }
   ],
   "source": [
    "'''Q10. A company wants to know if there are any significant differences in the average time it takes to\n",
    "complete a task using three different software programs: Program A, Program B, and Program C. They\n",
    "randomly assign 30 employees to one of the programs and record the time it takes each employee to\n",
    "complete the task. Conduct a two-way ANOVA using Python to determine if there are any main effects or\n",
    "interaction effects between the software programs and employee experience level (novice vs.\n",
    "experienced). Report the F-statistics and p-values, and interpret the results'''"
   ]
  },
  {
   "cell_type": "code",
   "execution_count": null,
   "id": "1589ddab-3c33-4f54-a07a-004163d9abde",
   "metadata": {},
   "outputs": [],
   "source": [
    "\n",
    "import pandas as pd\n",
    "import numpy as np\n",
    "import statsmodels.api as sm\n",
    "from statsmodels.formula.api import ols\n",
    "\n",
    "# Example data\n",
    "np.random.seed(0)  # For reproducibility\n",
    "data = pd.DataFrame({\n",
    "    'completion_time': np.concatenate([\n",
    "        np.random.normal(loc=30, scale=5, size=10),  # Program A, Novice\n",
    "        np.random.normal(loc=28, scale=5, size=10),  # Program A, Experienced\n",
    "        np.random.normal(loc=32, scale=5, size=10),  # Program B, Novice\n",
    "        np.random.normal(loc=30, scale=5, size=10),  # Program B, Experienced\n",
    "        np.random.normal(loc=29, scale=5, size=10),  # Program C, Novice\n",
    "        np.random.normal(loc=27, scale=5, size=10)   # Program C, Experienced\n",
    "    ]),\n",
    " 'program': ['A']*10 + ['A']*10 + ['B']*10 + ['B']*10 + ['C']*10 + ['C']*10,    \n",
    " 'experience': ['Novice']*20 + ['Experienced']*20\n",
    "})\n",
    "model = ols('completion_time ~ C(program) * C(experience)', data=data).fit()\n",
    "anova_table = sm.stats.anova_lm(model, typ=2)\n",
    "print(anova_table)\n"
   ]
  },
  {
   "cell_type": "code",
   "execution_count": 28,
   "id": "a58e0f30-a986-4dc5-84f4-9e57ec35bddf",
   "metadata": {},
   "outputs": [
    {
     "data": {
      "text/plain": [
       "'Q11. An educational researcher is interested in whether a new teaching method improves student test\\nscores. They randomly assign 100 students to either the control group (traditional teaching method) or the\\nexperimental group (new teaching method) and administer a test at the end of the semester. Conduct a\\ntwo-sample t-test using Python to determine if there are any significant differences in test scores\\nbetween the two groups. If the results are significant, follow up with a post-hoc test to determine which\\ngroup(s) differ significantly from each other.'"
      ]
     },
     "execution_count": 28,
     "metadata": {},
     "output_type": "execute_result"
    }
   ],
   "source": [
    "'''Q11. An educational researcher is interested in whether a new teaching method improves student test\n",
    "scores. They randomly assign 100 students to either the control group (traditional teaching method) or the\n",
    "experimental group (new teaching method) and administer a test at the end of the semester. Conduct a\n",
    "two-sample t-test using Python to determine if there are any significant differences in test scores\n",
    "between the two groups. If the results are significant, follow up with a post-hoc test to determine which\n",
    "group(s) differ significantly from each other.'''"
   ]
  },
  {
   "cell_type": "code",
   "execution_count": 29,
   "id": "1235e896-3fc9-41f5-98f1-f758fa7de466",
   "metadata": {},
   "outputs": [
    {
     "name": "stdout",
     "output_type": "stream",
     "text": [
      "T-statistic: -0.68\n",
      "P-value: 0.4966\n"
     ]
    }
   ],
   "source": [
    "import numpy as np\n",
    "from scipy import stats\n",
    "\n",
    "# Example data for 100 students\n",
    "np.random.seed(0)  # For reproducibility\n",
    "control_group = np.random.normal(loc=75, scale=10, size=50)  # Traditional method\n",
    "experimental_group = np.random.normal(loc=78, scale=10, size=50)  # New method\n",
    "t_statistic, p_value = stats.ttest_ind(control_group, experimental_group)\n",
    "print(f\"T-statistic: {t_statistic:.2f}\")\n",
    "print(f\"P-value: {p_value:.4f}\")\n"
   ]
  },
  {
   "cell_type": "code",
   "execution_count": 30,
   "id": "80b93748-9758-4502-a708-9a5496fda2e1",
   "metadata": {},
   "outputs": [
    {
     "data": {
      "text/plain": [
       "'Q12. A researcher wants to know if there are any significant differences in the average daily sales of three\\nretail stores: Store A, Store B, and Store C. They randomly select 30 days and record the sales for each store\\non those days. Conduct a repeated measures ANOVA using Python to determine if there are any\\nsignificant differences in sales between the three stores. If the results are significant, follow up with a posthoc test to determine which store(s) differ significantly from each other.'"
      ]
     },
     "execution_count": 30,
     "metadata": {},
     "output_type": "execute_result"
    }
   ],
   "source": [
    "'''Q12. A researcher wants to know if there are any significant differences in the average daily sales of three\n",
    "retail stores: Store A, Store B, and Store C. They randomly select 30 days and record the sales for each store\n",
    "on those days. Conduct a repeated measures ANOVA using Python to determine if there are any\n",
    "significant differences in sales between the three stores. If the results are significant, follow up with a posthoc test to determine which store(s) differ significantly from each other.'''"
   ]
  },
  {
   "cell_type": "code",
   "execution_count": 31,
   "id": "6122e973-11d1-4218-8a00-6380d3f6985c",
   "metadata": {},
   "outputs": [
    {
     "name": "stdout",
     "output_type": "stream",
     "text": [
      "               Anova\n",
      "===================================\n",
      "      F Value Num DF  Den DF Pr > F\n",
      "-----------------------------------\n",
      "store  0.9395 2.0000 58.0000 0.3967\n",
      "===================================\n",
      "\n"
     ]
    }
   ],
   "source": [
    "import pandas as pd\n",
    "import numpy as np\n",
    "from statsmodels.stats.anova import AnovaRM\n",
    "from statsmodels.stats.multicomp import pairwise_tukeyhsd\n",
    "\n",
    "# Example data: Sales for 30 days in 3 stores\n",
    "np.random.seed(0)  # For reproducibility\n",
    "days = np.arange(1, 31)\n",
    "sales_A = np.random.normal(loc=200, scale=20, size=30)\n",
    "sales_B = np.random.normal(loc=220, scale=20, size=30)\n",
    "sales_C = np.random.normal(loc=210, scale=20, size=30)\n",
    "\n",
    "data = pd.DataFrame({\n",
    "    'day': np.tile(days, 3),\n",
    "    'store': np.repeat(['A', 'B', 'C'], 30),\n",
    "    'sales': np.concatenate([sales_A, sales_B, sales_C])\n",
    "})\n",
    "model = AnovaRM(data, 'sales', 'day', within=['store']).fit()\n",
    "print(model.summary())\n"
   ]
  },
  {
   "cell_type": "code",
   "execution_count": null,
   "id": "d47090c5-f2aa-4756-a527-edee70561d4e",
   "metadata": {},
   "outputs": [],
   "source": []
  }
 ],
 "metadata": {
  "kernelspec": {
   "display_name": "Python 3 (ipykernel)",
   "language": "python",
   "name": "python3"
  },
  "language_info": {
   "codemirror_mode": {
    "name": "ipython",
    "version": 3
   },
   "file_extension": ".py",
   "mimetype": "text/x-python",
   "name": "python",
   "nbconvert_exporter": "python",
   "pygments_lexer": "ipython3",
   "version": "3.10.8"
  }
 },
 "nbformat": 4,
 "nbformat_minor": 5
}
